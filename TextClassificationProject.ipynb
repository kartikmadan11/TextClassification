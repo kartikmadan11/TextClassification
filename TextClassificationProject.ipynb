{
 "cells": [
  {
   "cell_type": "markdown",
   "metadata": {},
   "source": [
    "# Text Classification\n",
    "Submission by Kartik Madan"
   ]
  },
  {
   "cell_type": "markdown",
   "metadata": {},
   "source": [
    "### Importing Libraries"
   ]
  },
  {
   "cell_type": "code",
   "execution_count": 1,
   "metadata": {},
   "outputs": [],
   "source": [
    "#For reading docs\n",
    "import os \n",
    "\n",
    "#Tokenize words in documents\n",
    "from sklearn.feature_extraction.text import CountVectorizer  \n",
    "\n",
    "#Plotting graph\n",
    "import numpy as np\n",
    "from collections import Counter\n",
    "import matplotlib.pyplot as plt\n",
    "\n",
    "#Train-test split\n",
    "from sklearn.model_selection import train_test_split\n",
    "\n",
    "#Sci-kit Learn library Naive Bayes Library\n",
    "from sklearn.naive_bayes import MultinomialNB\n",
    "\n",
    "#For evaluating scores\n",
    "from sklearn.metrics import classification_report"
   ]
  },
  {
   "cell_type": "markdown",
   "metadata": {},
   "source": [
    "### Preparing Dataset"
   ]
  },
  {
   "cell_type": "code",
   "execution_count": 2,
   "metadata": {},
   "outputs": [],
   "source": [
    "#Reading every document by looping\n",
    "\n",
    "classes = os.listdir('20_newsgroups')\n",
    "\n",
    "data = []    #List of string files of every document\n",
    "target = []   #Corresponding values of every class the doc belongs to from 0-19\n",
    "i = 0\n",
    "\n",
    "for single_class in classes:\n",
    "    \n",
    "    documents = os.listdir('20_newsgroups/' + single_class)\n",
    "    \n",
    "    for single_doc in documents:\n",
    "        \n",
    "        file = open('20_newsgroups/' + single_class +'/'+ single_doc)\n",
    "        \n",
    "        data.append(file.read())\n",
    "        target.append(i)\n",
    "        \n",
    "        file.close()\n",
    "    i = i + 1"
   ]
  },
  {
   "cell_type": "code",
   "execution_count": 3,
   "metadata": {},
   "outputs": [
    {
     "data": {
      "text/plain": [
       "(19997, 19997)"
      ]
     },
     "execution_count": 3,
     "metadata": {},
     "output_type": "execute_result"
    }
   ],
   "source": [
    "len(data), len(target)"
   ]
  },
  {
   "cell_type": "markdown",
   "metadata": {},
   "source": [
    "### Plotting Frequency vs Count of Words Graph\n",
    "\n",
    "Here, no stop-words or infrequent words are removed from the dictionary, to check the shape of graph"
   ]
  },
  {
   "cell_type": "code",
   "execution_count": 4,
   "metadata": {},
   "outputs": [],
   "source": [
    "p = np.asarray(CountVectorizer().fit_transform(data).sum(axis = 0)).reshape(-1)"
   ]
  },
  {
   "cell_type": "code",
   "execution_count": 5,
   "metadata": {},
   "outputs": [],
   "source": [
    "li = Counter(list(p)).most_common()"
   ]
  },
  {
   "cell_type": "code",
   "execution_count": 6,
   "metadata": {},
   "outputs": [
    {
     "data": {
      "text/plain": [
       "list"
      ]
     },
     "execution_count": 6,
     "metadata": {},
     "output_type": "execute_result"
    }
   ],
   "source": [
    "type(li)"
   ]
  },
  {
   "cell_type": "code",
   "execution_count": 7,
   "metadata": {},
   "outputs": [],
   "source": [
    "y_axis = [tup[1] for tup in li]\n",
    "x_axis = [tup[0] for tup in li]"
   ]
  },
  {
   "cell_type": "code",
   "execution_count": 8,
   "metadata": {},
   "outputs": [
    {
     "name": "stderr",
     "output_type": "stream",
     "text": [
      "No handles with labels found to put in legend.\n"
     ]
    },
    {
     "data": {
      "image/png": "[encoded data removed]",
      "text/plain": [
       "<Figure size 432x288 with 1 Axes>"
      ]
     },
     "metadata": {},
     "output_type": "display_data"
    }
   ],
   "source": [
    "plt.plot(x_axis, y_axis, 'red', linewidth = 2, label = \"\")\n",
    "\n",
    "plt.axis([0,100,0,14000])\n",
    "plt.grid()\n",
    "plt.text(4,9000, \"<- less words with high freq\", fontsize = 12)\n",
    "plt.text(50,1000, \"more words with low freq\", fontsize = 12)\n",
    "\n",
    "plt.ylabel(\"frequency\")\n",
    "plt.xlabel(\"number of words\")\n",
    "plt.legend()\n",
    "plt.title(\"20 Newsgroups: Word Distribution\")\n",
    "plt.show()"
   ]
  },
  {
   "cell_type": "markdown",
   "metadata": {},
   "source": [
    "### Ignoring stop words and words occuring in less than 1% of documents"
   ]
  },
  {
   "cell_type": "code",
   "execution_count": 9,
   "metadata": {},
   "outputs": [],
   "source": [
    "vectorizer = CountVectorizer(stop_words='english', min_df = 0.01)"
   ]
  },
  {
   "cell_type": "code",
   "execution_count": 10,
   "metadata": {},
   "outputs": [],
   "source": [
    "X = vectorizer.fit_transform(data)"
   ]
  },
  {
   "cell_type": "code",
   "execution_count": 11,
   "metadata": {
    "scrolled": true
   },
   "outputs": [
    {
     "name": "stdout",
     "output_type": "stream",
     "text": [
      "<class 'scipy.sparse.csr.csr_matrix'>\n",
      "(19997, 2127)\n",
      "2127\n"
     ]
    }
   ],
   "source": [
    "print(type(X))\n",
    "print(X.shape)\n",
    "print(len(vectorizer.vocabulary_))"
   ]
  },
  {
   "cell_type": "code",
   "execution_count": 12,
   "metadata": {},
   "outputs": [],
   "source": [
    "# Converting sparse matrix to numpy array\n",
    "X_array = X.toarray()\n",
    "Y_array = np.asarray(target)"
   ]
  },
  {
   "cell_type": "code",
   "execution_count": 13,
   "metadata": {},
   "outputs": [],
   "source": [
    "# Splitting Dataset\n",
    "X_train, X_test, Y_train, Y_test = train_test_split(X_array, Y_array, random_state = 0, test_size = 0.2)"
   ]
  },
  {
   "cell_type": "markdown",
   "metadata": {},
   "source": [
    "### 1. Perform Test Classification using Multinomial Naive Bayes(already implemented in sklearn)."
   ]
  },
  {
   "cell_type": "code",
   "execution_count": 14,
   "metadata": {
    "scrolled": true
   },
   "outputs": [
    {
     "data": {
      "text/plain": [
       "MultinomialNB(alpha=0.1, class_prior=None, fit_prior=True)"
      ]
     },
     "execution_count": 14,
     "metadata": {},
     "output_type": "execute_result"
    }
   ],
   "source": [
    "clf = MultinomialNB(alpha = 0.1)\n",
    "clf.fit(X_train, Y_train)"
   ]
  },
  {
   "cell_type": "code",
   "execution_count": 15,
   "metadata": {},
   "outputs": [],
   "source": [
    "Y_pred_inbuilt = clf.predict(X_test)"
   ]
  },
  {
   "cell_type": "code",
   "execution_count": 16,
   "metadata": {},
   "outputs": [
    {
     "name": "stdout",
     "output_type": "stream",
     "text": [
      "             precision    recall  f1-score   support\n",
      "\n",
      "          0       0.85      0.78      0.81       193\n",
      "          1       0.84      0.79      0.81       201\n",
      "          2       0.91      0.82      0.86       197\n",
      "          3       0.71      0.87      0.78       182\n",
      "          4       0.78      0.89      0.83       196\n",
      "          5       0.85      0.74      0.79       196\n",
      "          6       0.85      0.90      0.87       214\n",
      "          7       0.89      0.88      0.89       221\n",
      "          8       0.90      0.97      0.94       224\n",
      "          9       0.94      0.94      0.94       194\n",
      "         10       0.93      0.93      0.93       191\n",
      "         11       0.96      0.95      0.96       194\n",
      "         12       0.82      0.84      0.83       196\n",
      "         13       0.95      0.88      0.91       210\n",
      "         14       0.94      0.94      0.94       195\n",
      "         15       0.98      1.00      0.99       199\n",
      "         16       0.78      0.90      0.83       203\n",
      "         17       0.93      0.86      0.89       216\n",
      "         18       0.73      0.68      0.70       190\n",
      "         19       0.69      0.65      0.67       188\n",
      "\n",
      "avg / total       0.86      0.86      0.86      4000\n",
      "\n"
     ]
    }
   ],
   "source": [
    "print(classification_report(Y_test,Y_pred_inbuilt))"
   ]
  },
  {
   "cell_type": "markdown",
   "metadata": {},
   "source": [
    "### 2. Implement Naive Bayes on your own from scratch for text classification. "
   ]
  },
  {
   "cell_type": "code",
   "execution_count": 17,
   "metadata": {},
   "outputs": [],
   "source": [
    "def fit(X_train, Y_train):\n",
    "    \n",
    "    result = {}\n",
    "    \n",
    "    class_values = set(Y_train)\n",
    "    result['total_data'] = len(Y_train)\n",
    "    \n",
    "    for current_class in class_values:\n",
    "        \n",
    "        result[current_class] = {}\n",
    "        current_class_rows = (Y_train == current_class) \n",
    "        \n",
    "        X_train_current = X_train[current_class_rows]\n",
    "        Y_train_current = Y_train[current_class_rows]\n",
    "        \n",
    "        num_features = X_train.shape[1]\n",
    "        total_count = 0\n",
    "        \n",
    "        for word_i in range(num_features):\n",
    "            current_class_word_count = X_train_current[:, word_i].sum()\n",
    "            result[current_class][word_i] = current_class_word_count\n",
    "            total_count += current_class_word_count\n",
    "        \n",
    "        result[current_class]['total_count'] = total_count    \n",
    "    return result"
   ]
  },
  {
   "cell_type": "code",
   "execution_count": 18,
   "metadata": {},
   "outputs": [],
   "source": [
    "def probability(dictionary, x, current_class):\n",
    "    \n",
    "    output = np.log(dictionary[current_class][\"total_count\"]) - np.log(dictionary[\"total_data\"])\n",
    "    num_features = len(dictionary[current_class].keys()) - 1\n",
    "    \n",
    "    for i in range(len(x)):\n",
    "        word_i_freq = x[i]\n",
    "        \n",
    "        count_word_i_current_class = dictionary[current_class][i] + 1\n",
    "        count_current_class = dictionary[current_class][\"total_count\"] + num_features\n",
    "        \n",
    "        current_probability = (word_i_freq)*(np.log(count_word_i_current_class)) - np.log(count_current_class)\n",
    "        output = output + current_probability\n",
    "    \n",
    "    return output"
   ]
  },
  {
   "cell_type": "code",
   "execution_count": 19,
   "metadata": {},
   "outputs": [],
   "source": [
    "def predictSinglePoint(dictionary, x):\n",
    "    classes = dictionary.keys()\n",
    "    best_p = -1000\n",
    "    best_class = -1\n",
    "    first_run = True\n",
    "    for current_class in classes:\n",
    "        if current_class == 'total_data':\n",
    "            continue\n",
    "        p_current_class = probability(dictionary, x, current_class)\n",
    "        if (first_run or p_current_class > best_p ): \n",
    "            best_p = p_current_class\n",
    "            best_class = current_class\n",
    "        first_run = False\n",
    "    return best_class"
   ]
  },
  {
   "cell_type": "code",
   "execution_count": 20,
   "metadata": {},
   "outputs": [],
   "source": [
    "def predict(dictionary, X_test):\n",
    "    Y_pred = []\n",
    "    for X in X_test:\n",
    "        X_class = predictSinglePoint(dictionary, X)\n",
    "        Y_pred.append(X_class)\n",
    "    return Y_pred"
   ]
  },
  {
   "cell_type": "code",
   "execution_count": 21,
   "metadata": {},
   "outputs": [],
   "source": [
    "dictionary = fit(X_train, Y_train)"
   ]
  },
  {
   "cell_type": "code",
   "execution_count": 22,
   "metadata": {},
   "outputs": [],
   "source": [
    "Y_pred_self = predict(dictionary, X_test)"
   ]
  },
  {
   "cell_type": "markdown",
   "metadata": {},
   "source": [
    "### 3. Compare Results of your implementation of Naive Bayes with one in Sklearn."
   ]
  },
  {
   "cell_type": "code",
   "execution_count": 23,
   "metadata": {},
   "outputs": [
    {
     "name": "stdout",
     "output_type": "stream",
     "text": [
      "             precision    recall  f1-score   support\n",
      "\n",
      "          0       1.00      0.01      0.01       193\n",
      "          1       0.50      0.01      0.03       201\n",
      "          2       1.00      0.03      0.05       197\n",
      "          3       0.67      0.01      0.02       182\n",
      "          4       0.65      0.08      0.14       196\n",
      "          5       1.00      0.02      0.03       196\n",
      "          6       0.26      0.83      0.40       214\n",
      "          7       0.50      0.00      0.01       221\n",
      "          8       0.07      1.00      0.13       224\n",
      "          9       1.00      0.03      0.06       194\n",
      "         10       1.00      0.02      0.03       191\n",
      "         11       1.00      0.02      0.04       194\n",
      "         12       0.00      0.00      0.00       196\n",
      "         13       0.75      0.01      0.03       210\n",
      "         14       1.00      0.03      0.05       195\n",
      "         15       0.67      0.01      0.02       199\n",
      "         16       1.00      0.02      0.04       203\n",
      "         17       0.88      0.03      0.06       216\n",
      "         18       0.67      0.01      0.02       190\n",
      "         19       0.00      0.00      0.00       188\n",
      "\n",
      "avg / total       0.68      0.12      0.06      4000\n",
      "\n"
     ]
    },
    {
     "name": "stderr",
     "output_type": "stream",
     "text": [
      "C:\\Users\\magic\\Anaconda3\\lib\\site-packages\\sklearn\\metrics\\classification.py:1135: UndefinedMetricWarning: Precision and F-score are ill-defined and being set to 0.0 in labels with no predicted samples.\n",
      "  'precision', 'predicted', average, warn_for)\n"
     ]
    }
   ],
   "source": [
    "print(classification_report(Y_test,Y_pred_self))"
   ]
  }
 ],
 "metadata": {
  "kernelspec": {
   "display_name": "Python 3",
   "language": "python",
   "name": "python3"
  },
  "language_info": {
   "codemirror_mode": {
    "name": "ipython",
    "version": 3
   },
   "file_extension": ".py",
   "mimetype": "text/x-python",
   "name": "python",
   "nbconvert_exporter": "python",
   "pygments_lexer": "ipython3",
   "version": "3.6.5"
  }
 },
 "nbformat": 4,
 "nbformat_minor": 2
}
